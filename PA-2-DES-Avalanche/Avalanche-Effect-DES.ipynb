{
 "cells": [
  {
   "cell_type": "markdown",
   "id": "a63c7f1e",
   "metadata": {},
   "source": [
    "# Avalanche Effect Analysis in DES"
   ]
  },
  {
   "cell_type": "markdown",
   "id": "13ac112c",
   "metadata": {},
   "source": [
    "## IMPORTS"
   ]
  },
  {
   "cell_type": "code",
   "execution_count": 1,
   "id": "b1a308f1",
   "metadata": {},
   "outputs": [],
   "source": [
    "import random\n",
    "import matplotlib.pyplot as plt\n",
    "from des import Des"
   ]
  },
  {
   "cell_type": "markdown",
   "id": "c3b5c94d",
   "metadata": {},
   "source": [
    "## UTILITY"
   ]
  },
  {
   "cell_type": "code",
   "execution_count": 2,
   "id": "aaf246f7",
   "metadata": {},
   "outputs": [],
   "source": [
    "def generate_random_bitstring(n=8, m=8):\n",
    "    \"\"\" Generates a random bit string of n*m bits and returns a bit string list \"\"\"\n",
    "    return [''.join(random.choice('01') for _ in range(n)) for _ in range(m)] # Ex: ['00000001', '00000010', '000100',... '8 times']\n",
    "\n",
    "\n",
    "def generate_modified_bitstrings(bsl, k, n=8, m=8):\n",
    "    \"\"\" Modifies given bit string such that hamming distance between them is equal to [1, 2, ...till k]\n",
    "        bsl : List of bit string format  # Ex: ['00000001', '00000010', ...'8 times']\n",
    "        k :   Desired hamming distance modification [1 to k]\n",
    "    Returns each modded plain or cypher text in a list \"\"\"\n",
    "\n",
    "    indices = random.sample(range(0, n*m-1), k)  # Generates k unique numbers (indices) between 0 and 63 (incl)\n",
    "    indices_2D = [(i // n, i % m) for i in indices]  # Convert these indices to 2D format\n",
    "    bll = [list(bs) for bs in bsl]  # List of bits string --to--> list of list of bits  # Ex: [['0','0','0','0','0','0','0','1'], ...'8 times']\n",
    "\n",
    "    modded_bsll = []  # List of list of bit strings modified for all i: 1 to k distances\n",
    "    for i, j in indices_2D:\n",
    "        bll[i][j] = str(int(bll[i][j]) ^ 1)  # Flip the bit (XOR)\n",
    "        modded_bsll.append([''.join(bl) for bl in bll])\n",
    "\n",
    "    return modded_bsll  # Ex: [['00000001', '00000010', ...'8 times'], [... 8x], [... 8x], ...k times]\n",
    "\n",
    "\n",
    "def convert_bitlist2bytestring(bsl):\n",
    "    \"\"\" Converts bit string list to correct format of hex byte string expected by DES \"\"\"\n",
    "    int_list = [int(bs, 2) for bs in bsl]  # Ex: ['00000001', '00000010', '000100',... '8 times'] --to--> [1, 2, 4,... 8 times]\n",
    "    return bytes(int_list)  # Ex: b'\\x01\\x02\\x04....8 times'\n",
    "\n",
    "\n",
    "def convert_bytestring2bitlist(bys):\n",
    "    \"\"\" Converts byte string to list of bit strings for better visuals \"\"\"\n",
    "    int_list = list(bys)  # Ex: b'\\x01\\x02\\x04....8 times' --to--> [1, 2, 4,... 8 times]\n",
    "    return [format(int, '08b') for int in int_list]  # Ex: ['00000001', '00000010', '000100',... '8 times']\n",
    "\n",
    "\n",
    "def get_hamming_distance(bsl1, bsl2):\n",
    "    \"\"\" Returns hamming distance between two bit strings (list) \"\"\"\n",
    "    return sum([1 if b1 != b2 else 0 for bs1, bs2 in zip(bsl1, bsl2) for b1, b2 in zip(bs1, bs2)])\n",
    "\n",
    "\n",
    "def plot_boxplot(delta_list):\n",
    "    plt.figure(figsize =(10, 7))\n",
    "    plt.boxplot(delta_list)\n",
    "    plt.xlabel('Round -->')\n",
    "    plt.ylabel('Delta-C [HD] -->')\n",
    "    plt.xticks(range(1, len(delta_list)+1), range(0, len(delta_list))) # Offset labels by -1\n",
    "    plt.title('Box plot of Delta-C VS Rounds')\n",
    "    plt.show()"
   ]
  },
  {
   "cell_type": "markdown",
   "id": "88e88270",
   "metadata": {},
   "source": [
    "## TESTS"
   ]
  },
  {
   "cell_type": "markdown",
   "id": "ce908c42",
   "metadata": {},
   "source": [
    "### TEST-1"
   ]
  },
  {
   "cell_type": "code",
   "execution_count": 3,
   "id": "869277af",
   "metadata": {},
   "outputs": [],
   "source": [
    "def test_1(k=5):\n",
    "    \"\"\" Test-1: To observe delta C, for final round, for k different distances in plain text (delta P)\n",
    "        k :  k Plain texts generated for 1 plain text at [0 to k] hamming distances\n",
    "    \"\"\"\n",
    "    print('-'*20,'TEST-1: Observe delta C for k different delta P for final round','-'*20,'\\n')\n",
    "\n",
    "    plain_text = generate_random_bitstring()  # Generate a plain text (64 bit)\n",
    "    key = generate_random_bitstring()  # Generate a key (64 bit)\n",
    "    mod_plain_texts = generate_modified_bitstrings(plain_text, k)  # Generate modded plain texts for each k: 1 to k\n",
    "\n",
    "    # Output\n",
    "    print('Plain Text:', plain_text)\n",
    "    print('Key:', key)\n",
    "    print('Delta Plain Texts:')\n",
    "    [print(f'Delta={i+1}, PT={mpt}') for i, mpt in enumerate(mod_plain_texts)]\n",
    "    print()\n",
    "\n",
    "    plain_text = convert_bitlist2bytestring(plain_text)  # Convert to correct format (hex byte string)\n",
    "    key = convert_bitlist2bytestring(key)  # Convert to correct format\n",
    "    mod_plain_texts = [convert_bitlist2bytestring(mpt) for mpt in mod_plain_texts]  # Convert to correct format\n",
    "\n",
    "    # Output\n",
    "    print('Plain Text (bytes):', plain_text)\n",
    "    print('Key (bytes):', key)\n",
    "    print('Delta Plain Texts (bytes):')\n",
    "    [print(f'Delta={i+1}, PT={mpt}') for i, mpt in enumerate(mod_plain_texts)]\n",
    "    print()\n",
    "\n",
    "    des = Des(key)  # Defaulted params: (key, ECB, IVs[Don't care for ECB], pad=None, pad_mode=PAD_NORMAL])\n",
    "    cypher_text, ct_rounds = des.encrypt(plain_text)  # Encrypt the plain text\n",
    "    mod_cyphers = [des.encrypt(mpt) for mpt in mod_plain_texts]  # Encrypt all the different delta plain texts\n",
    "    mod_cypher_texts, mod_ct_rounds = zip(*mod_cyphers) #  Original code was modded to return final output and all rounds output\n",
    "\n",
    "    # Output\n",
    "    print('Cyper Text (bytes):', cypher_text)\n",
    "    print('Delta Cyper Texts (bytes):')\n",
    "    [print(f'PT-Delta={i+1}, CT={mct}') for i, mct in enumerate(mod_cypher_texts)]\n",
    "    print()\n",
    "\n",
    "    cypher_text = convert_bytestring2bitlist(cypher_text)  # Convert back\n",
    "    mod_cypher_texts = [convert_bytestring2bitlist(mct) for mct in mod_cypher_texts]  # Convert back\n",
    "\n",
    "    # Output\n",
    "    print('Cyper Text (bits):', cypher_text)\n",
    "    print('Delta Cyper Texts (bits):')\n",
    "    [print(f'PT-Delta={i+1}, CT={mct}') for i, mct in enumerate(mod_cypher_texts)]\n",
    "    print()\n",
    "\n",
    "    delta_c_list = [get_hamming_distance(cypher_text, mct) for mct in mod_cypher_texts]  # Calc HD between CT and Delta CTs\n",
    "\n",
    "    # Output\n",
    "    print('Delta-PT VS Delta-CT:')\n",
    "    [print(f'PT-Delta={i + 1}, CT-Delta={dc}') for i, dc in enumerate(delta_c_list)]\n",
    "    print()"
   ]
  },
  {
   "cell_type": "code",
   "execution_count": 4,
   "id": "66885a86",
   "metadata": {},
   "outputs": [
    {
     "name": "stdout",
     "output_type": "stream",
     "text": [
      "-------------------- TEST-1: Observe delta C for k different delta P for final round -------------------- \n",
      "\n",
      "Plain Text: ['11110011', '11111100', '11011011', '11110010', '00010010', '11100110', '10011110', '01000000']\n",
      "Key: ['10010000', '11101011', '00000001', '00000001', '01100010', '00011010', '01100100', '01011001']\n",
      "Delta Plain Texts:\n",
      "Delta=1, PT=['11110011', '11111101', '11011011', '11110010', '00010010', '11100110', '10011110', '01000000']\n",
      "Delta=2, PT=['11110011', '11111101', '11011011', '11110010', '00010010', '11100110', '10111110', '01000000']\n",
      "Delta=3, PT=['11110011', '11111101', '11011011', '11110010', '01010010', '11100110', '10111110', '01000000']\n",
      "Delta=4, PT=['11110011', '11111101', '11011011', '11110010', '01010000', '11100110', '10111110', '01000000']\n",
      "Delta=5, PT=['11110011', '11111101', '11011011', '11100010', '01010000', '11100110', '10111110', '01000000']\n",
      "\n",
      "Plain Text (bytes): b'\\xf3\\xfc\\xdb\\xf2\\x12\\xe6\\x9e@'\n",
      "Key (bytes): b'\\x90\\xeb\\x01\\x01b\\x1adY'\n",
      "Delta Plain Texts (bytes):\n",
      "Delta=1, PT=b'\\xf3\\xfd\\xdb\\xf2\\x12\\xe6\\x9e@'\n",
      "Delta=2, PT=b'\\xf3\\xfd\\xdb\\xf2\\x12\\xe6\\xbe@'\n",
      "Delta=3, PT=b'\\xf3\\xfd\\xdb\\xf2R\\xe6\\xbe@'\n",
      "Delta=4, PT=b'\\xf3\\xfd\\xdb\\xf2P\\xe6\\xbe@'\n",
      "Delta=5, PT=b'\\xf3\\xfd\\xdb\\xe2P\\xe6\\xbe@'\n",
      "\n",
      "Cyper Text (bytes): b'\\x86\\x1e0\\xf8\\xdcA\\x00i'\n",
      "Delta Cyper Texts (bytes):\n",
      "PT-Delta=1, CT=b'\\xdf\\xe7B\\x0e)\\x94:\\xe9'\n",
      "PT-Delta=2, CT=b'\\xde1Qf\\xef\\xa5\\xac\\x9d'\n",
      "PT-Delta=3, CT=b'\\xabG\\xb3C\\x06\\xfev\\x18'\n",
      "PT-Delta=4, CT=b'\\xf1?\\xcb,X\\xb8m\\x81'\n",
      "PT-Delta=5, CT=b'x\\xf3\\xd4F\\x83\\xe0\\x8e\\x95'\n",
      "\n",
      "Cyper Text (bits): ['10000110', '00011110', '00110000', '11111000', '11011100', '01000001', '00000000', '01101001']\n",
      "Delta Cyper Texts (bits):\n",
      "PT-Delta=1, CT=['11011111', '11100111', '01000010', '00001110', '00101001', '10010100', '00111010', '11101001']\n",
      "PT-Delta=2, CT=['11011110', '00110001', '01010001', '01100110', '11101111', '10100101', '10101100', '10011101']\n",
      "PT-Delta=3, CT=['10101011', '01000111', '10110011', '01000011', '00000110', '11111110', '01110110', '00011000']\n",
      "PT-Delta=4, CT=['11110001', '00111111', '11001011', '00101100', '01011000', '10111000', '01101101', '10000001']\n",
      "PT-Delta=5, CT=['01111000', '11110011', '11010100', '01000110', '10000011', '11100000', '10001110', '10010101']\n",
      "\n",
      "Delta-PT VS Delta-CT:\n",
      "PT-Delta=1, CT-Delta=36\n",
      "PT-Delta=2, CT-Delta=33\n",
      "PT-Delta=3, CT-Delta=38\n",
      "PT-Delta=4, CT-Delta=36\n",
      "PT-Delta=5, CT-Delta=42\n",
      "\n"
     ]
    }
   ],
   "source": [
    "test_1(k=5)"
   ]
  },
  {
   "cell_type": "markdown",
   "id": "c73cfd63",
   "metadata": {},
   "source": [
    "### TEST-2"
   ]
  },
  {
   "cell_type": "code",
   "execution_count": 5,
   "id": "791d7c32",
   "metadata": {},
   "outputs": [],
   "source": [
    "def test_2(k=5):\n",
    "    \"\"\" Test-2: To observe delta C, for final round, for k different distances in keys (delta K)\n",
    "        k :  k Keys generated for 1 Key at [0 to k] hamming distances\n",
    "    \"\"\"\n",
    "    print('-' * 5, 'TEST-2: Observe delta C for k different delta K for final round', '-' * 5, '\\n')\n",
    "\n",
    "    plain_text = generate_random_bitstring()  # Generate a plain text (64 bit)\n",
    "    key = generate_random_bitstring()  # Generate a key (64 bit)\n",
    "    mod_keys = generate_modified_bitstrings(key, k)  # Generate modded key for each k: 1 to k\n",
    "\n",
    "    plain_text = convert_bitlist2bytestring(plain_text)  # Convert to correct format (hex byte string)\n",
    "    key = convert_bitlist2bytestring(key)  # Convert to correct format\n",
    "    mod_keys = [convert_bitlist2bytestring(mk) for mk in mod_keys]  # Convert to correct format\n",
    "\n",
    "    des = Des(key)  # Defaulted params: (key, ECB, IVs[Don't care for ECB], pad=None, pad_mode=PAD_NORMAL])\n",
    "    mod_deses = [Des(mk) for mk in mod_keys]  # Instantiate DES for each key\n",
    "    cypher_text, ct_rounds = des.encrypt(plain_text)  # Encrypt the plain text with vanilla key\n",
    "    mod_cyphers = [md.encrypt(plain_text) for md in mod_deses]  # Encrypt plain text with all the different keys\n",
    "    mod_cypher_texts, mod_ct_rounds = zip(*mod_cyphers)  # Original code was modded to return final output and all rounds output\n",
    "\n",
    "    cypher_text = convert_bytestring2bitlist(cypher_text)  # Convert back\n",
    "    mod_cypher_texts = [convert_bytestring2bitlist(mct) for mct in mod_cypher_texts]  # Convert back\n",
    "\n",
    "    delta_c_list = [get_hamming_distance(cypher_text, mct) for mct in mod_cypher_texts]  # Calc HD between CT and Delta CTs\n",
    "\n",
    "    # Output\n",
    "    print('Delta-K VS Delta-CT:')\n",
    "    [print(f'K-Delta={i + 1}, CT-Delta={dc}') for i, dc in enumerate(delta_c_list)]\n",
    "    print()"
   ]
  },
  {
   "cell_type": "code",
   "execution_count": 6,
   "id": "742d4ccf",
   "metadata": {},
   "outputs": [
    {
     "name": "stdout",
     "output_type": "stream",
     "text": [
      "----- TEST-2: Observe delta C for k different delta K for final round ----- \n",
      "\n",
      "Delta-K VS Delta-CT:\n",
      "K-Delta=1, CT-Delta=32\n",
      "K-Delta=2, CT-Delta=30\n",
      "K-Delta=3, CT-Delta=30\n",
      "K-Delta=4, CT-Delta=30\n",
      "K-Delta=5, CT-Delta=32\n",
      "\n"
     ]
    }
   ],
   "source": [
    "test_2(k=5)"
   ]
  },
  {
   "cell_type": "markdown",
   "id": "7fb5d1b9",
   "metadata": {},
   "source": [
    "## ASSIGNMENT EXPERIMENTS (ANALYSIS)"
   ]
  },
  {
   "cell_type": "markdown",
   "id": "37d9cfb9",
   "metadata": {},
   "source": [
    "### (i) EXPERIMENT-1"
   ]
  },
  {
   "cell_type": "code",
   "execution_count": 7,
   "id": "687451b7",
   "metadata": {},
   "outputs": [],
   "source": [
    "def experiment_1(k=5):\n",
    "    \"\"\" Expt-1: To observe delta C, for k different plain text (delta P), for each round and plot Box-plot for delta C VS rounds\n",
    "        k :  k Random plain texts generated\n",
    "    \"\"\"\n",
    "    print('EXPERIMENT-1: Observe delta C for k different plain text (delta P),',\n",
    "          'for each round and plot Box-plot for delta-C VS Rounds\\n')\n",
    "    # Note: Delta C is calculated with respect to a fixed reference C text instead of all pairs=k*(k-1)\n",
    "    #       Which is useful in experiment_2 for increasing hamming distance analysis\n",
    "\n",
    "    plain_text = generate_random_bitstring()  # Generate a plain text for reference C\n",
    "    key = generate_random_bitstring()  # Generate a key (64 bit)\n",
    "    plain_ktexts = [generate_random_bitstring() for _ in range(k)]  # Generate k random plain texts\n",
    "\n",
    "    plain_text = convert_bitlist2bytestring(plain_text)  # Convert to correct format (hex byte string)\n",
    "    key = convert_bitlist2bytestring(key)  # Convert to correct format\n",
    "    plain_ktexts = [convert_bitlist2bytestring(pt) for pt in plain_ktexts]  # Convert to correct format\n",
    "\n",
    "    des = Des(key)  # Defaulted params: (key, ECB, IVs[Don't care for ECB], pad=None, pad_mode=PAD_NORMAL])\n",
    "    _, ct_rounds = des.encrypt(plain_text)  # Encrypt the plain text\n",
    "    cyphers = [des.encrypt(mpt) for mpt in plain_ktexts]  # Encrypt all the different plain texts\n",
    "    _, ckts_rounds = zip(*cyphers)  # Original code was modded to return final output and all rounds output\n",
    "\n",
    "    ct_rounds = [convert_bytestring2bitlist(ctr) for ctr in ct_rounds]  # Convert back\n",
    "    ckts_rounds = [[convert_bytestring2bitlist(ctr) for ctr in cktsr] for cktsr in ckts_rounds]  # Convert back\n",
    "\n",
    "    # Get HD for each cypher text k[i] for each round, with respect to a single C for that round\n",
    "    delta_ckts_rounds = [[get_hamming_distance(ct, cktsr[i]) for cktsr in ckts_rounds] for i, ct in enumerate(ct_rounds)]\n",
    "\n",
    "    \n",
    "    # Outputs and plots\n",
    "    print('Rows->Rounds, Column->k')\n",
    "    [print(dcr) for dcr in delta_ckts_rounds]\n",
    "    plot_boxplot(delta_ckts_rounds)"
   ]
  },
  {
   "cell_type": "code",
   "execution_count": 8,
   "id": "f0544e8a",
   "metadata": {},
   "outputs": [
    {
     "name": "stdout",
     "output_type": "stream",
     "text": [
      "EXPERIMENT-1: Observe delta C for k different plain text (delta P), for each round and plot Box-plot for delta-C VS Rounds\n",
      "\n",
      "Rows->Rounds, Column->k\n",
      "[31, 32, 36, 30, 33]\n",
      "[28, 33, 39, 29, 32]\n",
      "[27, 34, 37, 35, 35]\n",
      "[25, 31, 34, 32, 35]\n",
      "[30, 25, 37, 24, 31]\n",
      "[38, 30, 37, 27, 34]\n",
      "[37, 34, 37, 34, 35]\n",
      "[31, 30, 31, 36, 35]\n",
      "[30, 30, 25, 28, 31]\n",
      "[33, 32, 32, 29, 27]\n",
      "[29, 30, 36, 42, 31]\n",
      "[30, 34, 30, 40, 34]\n",
      "[30, 40, 29, 33, 34]\n",
      "[29, 37, 32, 33, 35]\n",
      "[32, 33, 30, 31, 34]\n",
      "[36, 33, 31, 35, 36]\n",
      "[41, 34, 33, 37, 31]\n"
     ]
    },
    {
     "data": {
      "image/png": "[encoded data removed]",
      "text/plain": [
       "<Figure size 720x504 with 1 Axes>"
      ]
     },
     "metadata": {
      "needs_background": "light"
     },
     "output_type": "display_data"
    }
   ],
   "source": [
    "experiment_1(k=5)"
   ]
  },
  {
   "cell_type": "markdown",
   "id": "950bca8f",
   "metadata": {},
   "source": [
    "### (ii) EXPERIMENT-2"
   ]
  },
  {
   "cell_type": "code",
   "execution_count": 9,
   "id": "8ca796ef",
   "metadata": {},
   "outputs": [],
   "source": [
    "def experiment_2(k=5):\n",
    "    \"\"\" Expt-2: To observe delta C, for each round, for k different distances in plain text (delta P)\n",
    "        k :  k Plain texts generated for 1 plain text at [0 to k] hamming distances\n",
    "    \"\"\"\n",
    "    print('EXPERIMENT-2: Observe delta C for k different PT with increasing HD',\n",
    "    'for each round and plot Box-plot for delta-C VS Rounds','\\n')\n",
    "    # Note: Delta C is calculated with respect to a fixed reference C for that round, useful for HD analysis\n",
    "\n",
    "    plain_text = generate_random_bitstring()  # Generate a plain text (64 bit)\n",
    "    key = generate_random_bitstring()  # Generate a key (64 bit)\n",
    "    mod_plain_texts = generate_modified_bitstrings(plain_text, k)  # Generate modded plain texts with k HD for each k: 1 to k\n",
    "\n",
    "    plain_text = convert_bitlist2bytestring(plain_text)  # Convert to correct format (hex byte string)\n",
    "    key = convert_bitlist2bytestring(key)  # Convert to correct format\n",
    "    mod_plain_texts = [convert_bitlist2bytestring(pt) for pt in mod_plain_texts]  # Convert to correct format\n",
    "\n",
    "    des = Des(key)  # Defaulted params: (key, ECB, IVs[Don't care for ECB], pad=None, pad_mode=PAD_NORMAL])\n",
    "    _, ct_rounds = des.encrypt(plain_text)  # Encrypt the plain text\n",
    "    cyphers = [des.encrypt(mpt) for mpt in mod_plain_texts]  # Encrypt all the different plain texts\n",
    "    _, ckts_rounds = zip(*cyphers)  # Original code was modded to return final output and all rounds output\n",
    "\n",
    "    ct_rounds = [convert_bytestring2bitlist(ctr) for ctr in ct_rounds]  # Convert back\n",
    "    ckts_rounds = [[convert_bytestring2bitlist(ctr) for ctr in cktsr] for cktsr in ckts_rounds]  # Convert back\n",
    "\n",
    "    # Get HD for each cypher text k[i] for each round, with respect to a single C for that round\n",
    "    delta_ckts_rounds = [[get_hamming_distance(ct, cktsr[i]) for cktsr in ckts_rounds] for i, ct in enumerate(ct_rounds)]\n",
    "\n",
    "\n",
    "    # Outputs and plots\n",
    "    print('Rows->Rounds, Column->k')\n",
    "    [print(dcr) for dcr in delta_ckts_rounds]\n",
    "    plot_boxplot(delta_ckts_rounds)"
   ]
  },
  {
   "cell_type": "code",
   "execution_count": 10,
   "id": "9ecef09c",
   "metadata": {},
   "outputs": [
    {
     "name": "stdout",
     "output_type": "stream",
     "text": [
      "EXPERIMENT-2: Observe delta C for k different PT with increasing HD for each round and plot Box-plot for delta-C VS Rounds \n",
      "\n",
      "Rows->Rounds, Column->k\n",
      "[1, 2, 3, 4, 5]\n",
      "[1, 4, 9, 10, 11]\n",
      "[4, 11, 22, 27, 28]\n",
      "[14, 23, 29, 36, 37]\n",
      "[24, 32, 33, 35, 37]\n",
      "[31, 34, 36, 33, 39]\n",
      "[39, 26, 32, 30, 35]\n",
      "[38, 26, 34, 32, 34]\n",
      "[39, 31, 37, 34, 36]\n",
      "[34, 32, 37, 31, 33]\n",
      "[27, 37, 39, 30, 29]\n",
      "[31, 37, 36, 31, 31]\n",
      "[34, 37, 36, 31, 27]\n",
      "[32, 33, 32, 30, 28]\n",
      "[29, 27, 31, 31, 36]\n",
      "[30, 30, 37, 33, 32]\n",
      "[34, 34, 34, 28, 33]\n"
     ]
    },
    {
     "data": {
      "image/png": "[encoded data removed]",
      "text/plain": [
       "<Figure size 720x504 with 1 Axes>"
      ]
     },
     "metadata": {
      "needs_background": "light"
     },
     "output_type": "display_data"
    }
   ],
   "source": [
    "experiment_2(k=5)"
   ]
  },
  {
   "cell_type": "markdown",
   "id": "f697cb47",
   "metadata": {},
   "source": [
    "### (iii) EXPERIMENT-3"
   ]
  },
  {
   "cell_type": "code",
   "execution_count": 11,
   "id": "b8aadf75",
   "metadata": {},
   "outputs": [],
   "source": [
    "def experiment_3(k=5):\n",
    "    \"\"\" Expt-3: To observe delta C, for each round, for k different distances in keys (delta K)\n",
    "        k :  k Keys generated for 1 Key at [0 to k] hamming distances\n",
    "    \"\"\"\n",
    "    print('EXPERIMENT-3: Observe delta C for k different keys for each round',\n",
    "        'and plot Box-plot for delta-C VS Rounds','\\n')\n",
    "    # Note: Due to better results of expt_2, the k different keys taken in this experiment are\n",
    "    #       also in increasing order of hamming distance\n",
    "\n",
    "    plain_text = generate_random_bitstring()  # Generate a plain text (64 bit)\n",
    "    key = generate_random_bitstring()  # Generate a key (64 bit)\n",
    "    mod_keys = generate_modified_bitstrings(key, k)  # Generate modded key with k HD for each k: 1 to k\n",
    "\n",
    "    plain_text = convert_bitlist2bytestring(plain_text)  # Convert to correct format (hex byte string)\n",
    "    key = convert_bitlist2bytestring(key)  # Convert to correct format\n",
    "    mod_keys = [convert_bitlist2bytestring(mk) for mk in mod_keys]  # Convert to correct format\n",
    "\n",
    "    des = Des(key)  # Defaulted params: (key, ECB, IVs[Don't care for ECB], pad=None, pad_mode=PAD_NORMAL])\n",
    "    mod_deses = [Des(mk) for mk in mod_keys]  # Instantiate DES for each key\n",
    "    _, ct_rounds = des.encrypt(plain_text)  # Encrypt the plain text with vanilla key\n",
    "    mod_cyphers = [md.encrypt(plain_text) for md in mod_deses]  # Encrypt plain text with all the different keys\n",
    "    _, ckts_rounds = zip(*mod_cyphers)  # Original code was modded to return final output and all rounds output\n",
    "\n",
    "    ct_rounds = [convert_bytestring2bitlist(ctr) for ctr in ct_rounds]  # Convert back\n",
    "    ckts_rounds = [[convert_bytestring2bitlist(ctr) for ctr in cktsr] for cktsr in ckts_rounds]  # Convert back\n",
    "\n",
    "    # Get HD for each cypher text k[i] for each round, with respect to a single C for that round\n",
    "    delta_ckts_rounds = [[get_hamming_distance(ct, cktsr[i]) for cktsr in ckts_rounds] for i, ct in enumerate(ct_rounds)]\n",
    "\n",
    "\n",
    "    # Outputs and plots\n",
    "    print('Rows->Rounds, Column->k')\n",
    "    [print(dcr) for dcr in delta_ckts_rounds]\n",
    "    plot_boxplot(delta_ckts_rounds)"
   ]
  },
  {
   "cell_type": "code",
   "execution_count": 12,
   "id": "bc56ec2f",
   "metadata": {},
   "outputs": [
    {
     "name": "stdout",
     "output_type": "stream",
     "text": [
      "EXPERIMENT-3: Observe delta C for k different keys for each round and plot Box-plot for delta-C VS Rounds \n",
      "\n",
      "Rows->Rounds, Column->k\n",
      "[0, 0, 0, 0, 0]\n",
      "[2, 4, 4, 6, 9]\n",
      "[12, 20, 23, 24, 26]\n",
      "[27, 31, 35, 34, 30]\n",
      "[31, 29, 25, 34, 30]\n",
      "[31, 29, 28, 39, 28]\n",
      "[35, 32, 29, 38, 29]\n",
      "[37, 32, 29, 31, 32]\n",
      "[38, 32, 39, 28, 28]\n",
      "[35, 31, 36, 29, 34]\n",
      "[36, 33, 31, 32, 33]\n",
      "[38, 33, 29, 29, 22]\n",
      "[30, 31, 30, 25, 23]\n",
      "[25, 35, 33, 27, 34]\n",
      "[29, 33, 31, 27, 31]\n",
      "[29, 34, 28, 32, 21]\n",
      "[35, 37, 31, 33, 22]\n"
     ]
    },
    {
     "data": {
      "image/png": "[encoded data removed]",
      "text/plain": [
       "<Figure size 720x504 with 1 Axes>"
      ]
     },
     "metadata": {
      "needs_background": "light"
     },
     "output_type": "display_data"
    }
   ],
   "source": [
    "experiment_3(k=5)"
   ]
  }
 ],
 "metadata": {
  "kernelspec": {
   "display_name": "Python 3",
   "language": "python",
   "name": "python3"
  },
  "language_info": {
   "codemirror_mode": {
    "name": "ipython",
    "version": 3
   },
   "file_extension": ".py",
   "mimetype": "text/x-python",
   "name": "python",
   "nbconvert_exporter": "python",
   "pygments_lexer": "ipython3",
   "version": "3.8.5"
  }
 },
 "nbformat": 4,
 "nbformat_minor": 5
}
